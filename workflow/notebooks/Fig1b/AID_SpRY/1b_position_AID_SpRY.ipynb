{
 "cells": [
  {
   "cell_type": "code",
   "execution_count": 1,
   "metadata": {
    "scrolled": true
   },
   "outputs": [],
   "source": [
    "from copy import deepcopy\n",
    "\n",
    "import numpy as np\n",
    "import pandas as pd\n",
    "from tqdm.auto import tqdm\n",
    "\n",
    "import matplotlib\n",
    "import matplotlib.pyplot as plt\n",
    "import seaborn as sns\n",
    "import logomaker\n",
    "\n",
    "import bean as be\n",
    "from bean import Edit\n",
    "import bean.plotting.editing_patterns"
   ]
  },
  {
   "cell_type": "code",
   "execution_count": 2,
   "metadata": {},
   "outputs": [],
   "source": [
    "#plt.style.use('jr')\n",
    "plt.rcParams[\"pdf.use14corefonts\"] = True\n",
    "matplotlib.rcParams['pdf.fonttype'] = 42 \n",
    "matplotlib.rcParams[\"axes.unicode_minus\"] = False"
   ]
  },
  {
   "cell_type": "code",
   "execution_count": 3,
   "metadata": {},
   "outputs": [],
   "source": [
    "plt.style.use('default')"
   ]
  },
  {
   "cell_type": "markdown",
   "metadata": {},
   "source": [
    "# Load and prepare ReporterScreen\n"
   ]
  },
  {
   "cell_type": "markdown",
   "metadata": {},
   "source": [
    "## Tiling screen data"
   ]
  },
  {
   "cell_type": "code",
   "execution_count": 4,
   "metadata": {},
   "outputs": [],
   "source": [
    "cdata = be.read_h5ad(f\"../../../results/filtered_annotated/LDLRCDS_CBE_SpRY/bean_count_LDLRCDS_CBE_SpRY_masked.h5ad\")"
   ]
  },
  {
   "cell_type": "code",
   "execution_count": 5,
   "metadata": {},
   "outputs": [],
   "source": [
    "cdata_bulk = cdata[:,cdata.samples.bin == \"bulk\"]"
   ]
  },
  {
   "cell_type": "code",
   "execution_count": 6,
   "metadata": {},
   "outputs": [
    {
     "data": {
      "text/html": [
       "<div>\n",
       "<style scoped>\n",
       "    .dataframe tbody tr th:only-of-type {\n",
       "        vertical-align: middle;\n",
       "    }\n",
       "\n",
       "    .dataframe tbody tr th {\n",
       "        vertical-align: top;\n",
       "    }\n",
       "\n",
       "    .dataframe thead th {\n",
       "        text-align: right;\n",
       "    }\n",
       "</style>\n",
       "<table border=\"1\" class=\"dataframe\">\n",
       "  <thead>\n",
       "    <tr style=\"text-align: right;\">\n",
       "      <th></th>\n",
       "      <th>rep</th>\n",
       "      <th>bin</th>\n",
       "      <th>gini_X</th>\n",
       "      <th>median_corr_X</th>\n",
       "      <th>median_lfc_corr.top_bot</th>\n",
       "      <th>median_editing_rate</th>\n",
       "      <th>mask</th>\n",
       "    </tr>\n",
       "  </thead>\n",
       "  <tbody>\n",
       "    <tr>\n",
       "      <th>rep1_bulk</th>\n",
       "      <td>rep1</td>\n",
       "      <td>bulk</td>\n",
       "      <td>0.320903</td>\n",
       "      <td>0.761598</td>\n",
       "      <td>0.070089</td>\n",
       "      <td>0.061338</td>\n",
       "      <td>1</td>\n",
       "    </tr>\n",
       "    <tr>\n",
       "      <th>rep2_bulk</th>\n",
       "      <td>rep2</td>\n",
       "      <td>bulk</td>\n",
       "      <td>0.329992</td>\n",
       "      <td>0.759042</td>\n",
       "      <td>0.178774</td>\n",
       "      <td>0.089657</td>\n",
       "      <td>1</td>\n",
       "    </tr>\n",
       "    <tr>\n",
       "      <th>rep3_bulk</th>\n",
       "      <td>rep3</td>\n",
       "      <td>bulk</td>\n",
       "      <td>0.300113</td>\n",
       "      <td>0.752334</td>\n",
       "      <td>0.217440</td>\n",
       "      <td>0.057389</td>\n",
       "      <td>1</td>\n",
       "    </tr>\n",
       "    <tr>\n",
       "      <th>rep4_bulk</th>\n",
       "      <td>rep4</td>\n",
       "      <td>bulk</td>\n",
       "      <td>0.334078</td>\n",
       "      <td>0.765723</td>\n",
       "      <td>0.256165</td>\n",
       "      <td>0.071222</td>\n",
       "      <td>1</td>\n",
       "    </tr>\n",
       "  </tbody>\n",
       "</table>\n",
       "</div>"
      ],
      "text/plain": [
       "            rep   bin    gini_X  median_corr_X  median_lfc_corr.top_bot  \\\n",
       "rep1_bulk  rep1  bulk  0.320903       0.761598                 0.070089   \n",
       "rep2_bulk  rep2  bulk  0.329992       0.759042                 0.178774   \n",
       "rep3_bulk  rep3  bulk  0.300113       0.752334                 0.217440   \n",
       "rep4_bulk  rep4  bulk  0.334078       0.765723                 0.256165   \n",
       "\n",
       "           median_editing_rate  mask  \n",
       "rep1_bulk             0.061338     1  \n",
       "rep2_bulk             0.089657     1  \n",
       "rep3_bulk             0.057389     1  \n",
       "rep4_bulk             0.071222     1  "
      ]
     },
     "execution_count": 6,
     "metadata": {},
     "output_type": "execute_result"
    }
   ],
   "source": [
    "cdata_bulk.samples"
   ]
  },
  {
   "cell_type": "code",
   "execution_count": 8,
   "metadata": {},
   "outputs": [
    {
     "data": {
      "application/vnd.jupyter.widget-view+json": {
       "model_id": "45724a72432f48269a031dd5d40040e2",
       "version_major": 2,
       "version_minor": 0
      },
      "text/plain": [
       "Calibrating edits in editable positions...:   0%|          | 0/7295 [00:00<?, ?it/s]"
      ]
     },
     "metadata": {},
     "output_type": "display_data"
    }
   ],
   "source": [
    "cedit_rates_df = bean.plotting.editing_patterns.get_edit_rates(cdata_bulk, adjust_spacer_pos = True)"
   ]
  },
  {
   "cell_type": "code",
   "execution_count": 9,
   "metadata": {},
   "outputs": [
    {
     "data": {
      "text/html": [
       "<div>\n",
       "<style scoped>\n",
       "    .dataframe tbody tr th:only-of-type {\n",
       "        vertical-align: middle;\n",
       "    }\n",
       "\n",
       "    .dataframe tbody tr th {\n",
       "        vertical-align: top;\n",
       "    }\n",
       "\n",
       "    .dataframe thead th {\n",
       "        text-align: right;\n",
       "    }\n",
       "</style>\n",
       "<table border=\"1\" class=\"dataframe\">\n",
       "  <thead>\n",
       "    <tr style=\"text-align: right;\">\n",
       "      <th></th>\n",
       "      <th>guide</th>\n",
       "      <th>edit</th>\n",
       "      <th>rep_median</th>\n",
       "      <th>rep_mean</th>\n",
       "      <th>rel_pos</th>\n",
       "      <th>spacer_pos</th>\n",
       "      <th>base_change</th>\n",
       "      <th>context</th>\n",
       "    </tr>\n",
       "  </thead>\n",
       "  <tbody>\n",
       "    <tr>\n",
       "      <th>0</th>\n",
       "      <td>10_2511_neg</td>\n",
       "      <td>11224163:25:-:A&gt;T</td>\n",
       "      <td>0.0</td>\n",
       "      <td>0.00000</td>\n",
       "      <td>25</td>\n",
       "      <td>20</td>\n",
       "      <td>A&gt;T</td>\n",
       "      <td>CA</td>\n",
       "    </tr>\n",
       "    <tr>\n",
       "      <th>1</th>\n",
       "      <td>10_2511_neg</td>\n",
       "      <td>11224164:24:-:C&gt;A</td>\n",
       "      <td>0.0</td>\n",
       "      <td>0.00000</td>\n",
       "      <td>24</td>\n",
       "      <td>19</td>\n",
       "      <td>C&gt;A</td>\n",
       "      <td>TC</td>\n",
       "    </tr>\n",
       "    <tr>\n",
       "      <th>2</th>\n",
       "      <td>10_2511_neg</td>\n",
       "      <td>11224164:24:-:C&gt;T</td>\n",
       "      <td>0.0</td>\n",
       "      <td>0.00000</td>\n",
       "      <td>24</td>\n",
       "      <td>19</td>\n",
       "      <td>C&gt;T</td>\n",
       "      <td>TC</td>\n",
       "    </tr>\n",
       "    <tr>\n",
       "      <th>3</th>\n",
       "      <td>10_2511_neg</td>\n",
       "      <td>11224165:23:-:T&gt;A</td>\n",
       "      <td>0.0</td>\n",
       "      <td>0.00000</td>\n",
       "      <td>23</td>\n",
       "      <td>18</td>\n",
       "      <td>T&gt;A</td>\n",
       "      <td>CT</td>\n",
       "    </tr>\n",
       "    <tr>\n",
       "      <th>4</th>\n",
       "      <td>10_2511_neg</td>\n",
       "      <td>11224165:23:-:T&gt;C</td>\n",
       "      <td>0.0</td>\n",
       "      <td>0.00019</td>\n",
       "      <td>23</td>\n",
       "      <td>18</td>\n",
       "      <td>T&gt;C</td>\n",
       "      <td>CT</td>\n",
       "    </tr>\n",
       "    <tr>\n",
       "      <th>...</th>\n",
       "      <td>...</td>\n",
       "      <td>...</td>\n",
       "      <td>...</td>\n",
       "      <td>...</td>\n",
       "      <td>...</td>\n",
       "      <td>...</td>\n",
       "      <td>...</td>\n",
       "      <td>...</td>\n",
       "    </tr>\n",
       "    <tr>\n",
       "      <th>261092</th>\n",
       "      <td>Intron 1 DNaseHS 2_5704_neg</td>\n",
       "      <td>10:10:+:C&gt;T</td>\n",
       "      <td>0.0</td>\n",
       "      <td>0.00000</td>\n",
       "      <td>10</td>\n",
       "      <td>5</td>\n",
       "      <td>C&gt;T</td>\n",
       "      <td>CC</td>\n",
       "    </tr>\n",
       "    <tr>\n",
       "      <th>261093</th>\n",
       "      <td>Intron 1 DNaseHS 2_5704_neg</td>\n",
       "      <td>20:20:+:C&gt;T</td>\n",
       "      <td>0.0</td>\n",
       "      <td>0.00000</td>\n",
       "      <td>20</td>\n",
       "      <td>15</td>\n",
       "      <td>C&gt;T</td>\n",
       "      <td>TC</td>\n",
       "    </tr>\n",
       "    <tr>\n",
       "      <th>261094</th>\n",
       "      <td>Intron 1 DNaseHS 2_5704_pos</td>\n",
       "      <td>21:21:+:C&gt;T</td>\n",
       "      <td>0.0</td>\n",
       "      <td>0.00000</td>\n",
       "      <td>21</td>\n",
       "      <td>16</td>\n",
       "      <td>C&gt;T</td>\n",
       "      <td>AC</td>\n",
       "    </tr>\n",
       "    <tr>\n",
       "      <th>261095</th>\n",
       "      <td>Intron 1 DNaseHS 2_5710_pos</td>\n",
       "      <td>19:19:+:C&gt;T</td>\n",
       "      <td>0.0</td>\n",
       "      <td>0.00000</td>\n",
       "      <td>19</td>\n",
       "      <td>13</td>\n",
       "      <td>C&gt;T</td>\n",
       "      <td>AC</td>\n",
       "    </tr>\n",
       "    <tr>\n",
       "      <th>261096</th>\n",
       "      <td>Intron 1 DNaseHS 2_5710_pos</td>\n",
       "      <td>20:20:+:C&gt;T</td>\n",
       "      <td>0.0</td>\n",
       "      <td>0.00000</td>\n",
       "      <td>20</td>\n",
       "      <td>14</td>\n",
       "      <td>C&gt;T</td>\n",
       "      <td>CC</td>\n",
       "    </tr>\n",
       "  </tbody>\n",
       "</table>\n",
       "<p>261097 rows × 8 columns</p>\n",
       "</div>"
      ],
      "text/plain": [
       "                              guide               edit  rep_median  rep_mean  \\\n",
       "0                       10_2511_neg  11224163:25:-:A>T         0.0   0.00000   \n",
       "1                       10_2511_neg  11224164:24:-:C>A         0.0   0.00000   \n",
       "2                       10_2511_neg  11224164:24:-:C>T         0.0   0.00000   \n",
       "3                       10_2511_neg  11224165:23:-:T>A         0.0   0.00000   \n",
       "4                       10_2511_neg  11224165:23:-:T>C         0.0   0.00019   \n",
       "...                             ...                ...         ...       ...   \n",
       "261092  Intron 1 DNaseHS 2_5704_neg        10:10:+:C>T         0.0   0.00000   \n",
       "261093  Intron 1 DNaseHS 2_5704_neg        20:20:+:C>T         0.0   0.00000   \n",
       "261094  Intron 1 DNaseHS 2_5704_pos        21:21:+:C>T         0.0   0.00000   \n",
       "261095  Intron 1 DNaseHS 2_5710_pos        19:19:+:C>T         0.0   0.00000   \n",
       "261096  Intron 1 DNaseHS 2_5710_pos        20:20:+:C>T         0.0   0.00000   \n",
       "\n",
       "        rel_pos  spacer_pos base_change context  \n",
       "0            25          20         A>T      CA  \n",
       "1            24          19         C>A      TC  \n",
       "2            24          19         C>T      TC  \n",
       "3            23          18         T>A      CT  \n",
       "4            23          18         T>C      CT  \n",
       "...         ...         ...         ...     ...  \n",
       "261092       10           5         C>T      CC  \n",
       "261093       20          15         C>T      TC  \n",
       "261094       21          16         C>T      AC  \n",
       "261095       19          13         C>T      AC  \n",
       "261096       20          14         C>T      CC  \n",
       "\n",
       "[261097 rows x 8 columns]"
      ]
     },
     "execution_count": 9,
     "metadata": {},
     "output_type": "execute_result"
    }
   ],
   "source": [
    "cedit_rates_df"
   ]
  },
  {
   "cell_type": "markdown",
   "metadata": {},
   "source": [
    "## Combination with PAM\n"
   ]
  },
  {
   "cell_type": "code",
   "execution_count": 10,
   "metadata": {},
   "outputs": [],
   "source": [
    "cedit_rates_df_ct = cedit_rates_df.loc[cedit_rates_df.base_change == \"C>T\",:].reset_index(drop=True)"
   ]
  },
  {
   "cell_type": "code",
   "execution_count": 11,
   "metadata": {},
   "outputs": [
    {
     "data": {
      "text/html": [
       "<div>\n",
       "<style scoped>\n",
       "    .dataframe tbody tr th:only-of-type {\n",
       "        vertical-align: middle;\n",
       "    }\n",
       "\n",
       "    .dataframe tbody tr th {\n",
       "        vertical-align: top;\n",
       "    }\n",
       "\n",
       "    .dataframe thead th {\n",
       "        text-align: right;\n",
       "    }\n",
       "</style>\n",
       "<table border=\"1\" class=\"dataframe\">\n",
       "  <thead>\n",
       "    <tr style=\"text-align: right;\">\n",
       "      <th></th>\n",
       "      <th>guide</th>\n",
       "      <th>edit</th>\n",
       "      <th>rep_median</th>\n",
       "      <th>rep_mean</th>\n",
       "      <th>rel_pos</th>\n",
       "      <th>spacer_pos</th>\n",
       "      <th>base_change</th>\n",
       "      <th>context</th>\n",
       "    </tr>\n",
       "  </thead>\n",
       "  <tbody>\n",
       "    <tr>\n",
       "      <th>0</th>\n",
       "      <td>10_2511_neg</td>\n",
       "      <td>11224164:24:-:C&gt;T</td>\n",
       "      <td>0.000000</td>\n",
       "      <td>0.000000</td>\n",
       "      <td>24</td>\n",
       "      <td>19</td>\n",
       "      <td>C&gt;T</td>\n",
       "      <td>TC</td>\n",
       "    </tr>\n",
       "    <tr>\n",
       "      <th>1</th>\n",
       "      <td>10_2511_neg</td>\n",
       "      <td>11224166:22:-:C&gt;T</td>\n",
       "      <td>0.000000</td>\n",
       "      <td>0.000000</td>\n",
       "      <td>22</td>\n",
       "      <td>17</td>\n",
       "      <td>C&gt;T</td>\n",
       "      <td>TC</td>\n",
       "    </tr>\n",
       "    <tr>\n",
       "      <th>2</th>\n",
       "      <td>10_2511_neg</td>\n",
       "      <td>11224169:19:-:C&gt;T</td>\n",
       "      <td>0.000000</td>\n",
       "      <td>0.000000</td>\n",
       "      <td>19</td>\n",
       "      <td>14</td>\n",
       "      <td>C&gt;T</td>\n",
       "      <td>TC</td>\n",
       "    </tr>\n",
       "    <tr>\n",
       "      <th>3</th>\n",
       "      <td>10_2511_neg</td>\n",
       "      <td>11224171:17:-:C&gt;T</td>\n",
       "      <td>0.031408</td>\n",
       "      <td>0.038483</td>\n",
       "      <td>17</td>\n",
       "      <td>12</td>\n",
       "      <td>C&gt;T</td>\n",
       "      <td>CC</td>\n",
       "    </tr>\n",
       "    <tr>\n",
       "      <th>4</th>\n",
       "      <td>10_2511_neg</td>\n",
       "      <td>11224172:16:-:C&gt;T</td>\n",
       "      <td>0.000000</td>\n",
       "      <td>0.000000</td>\n",
       "      <td>16</td>\n",
       "      <td>11</td>\n",
       "      <td>C&gt;T</td>\n",
       "      <td>CC</td>\n",
       "    </tr>\n",
       "    <tr>\n",
       "      <th>...</th>\n",
       "      <td>...</td>\n",
       "      <td>...</td>\n",
       "      <td>...</td>\n",
       "      <td>...</td>\n",
       "      <td>...</td>\n",
       "      <td>...</td>\n",
       "      <td>...</td>\n",
       "      <td>...</td>\n",
       "    </tr>\n",
       "    <tr>\n",
       "      <th>38883</th>\n",
       "      <td>Intron 1 DNaseHS 2_5704_neg</td>\n",
       "      <td>10:10:+:C&gt;T</td>\n",
       "      <td>0.000000</td>\n",
       "      <td>0.000000</td>\n",
       "      <td>10</td>\n",
       "      <td>5</td>\n",
       "      <td>C&gt;T</td>\n",
       "      <td>CC</td>\n",
       "    </tr>\n",
       "    <tr>\n",
       "      <th>38884</th>\n",
       "      <td>Intron 1 DNaseHS 2_5704_neg</td>\n",
       "      <td>20:20:+:C&gt;T</td>\n",
       "      <td>0.000000</td>\n",
       "      <td>0.000000</td>\n",
       "      <td>20</td>\n",
       "      <td>15</td>\n",
       "      <td>C&gt;T</td>\n",
       "      <td>TC</td>\n",
       "    </tr>\n",
       "    <tr>\n",
       "      <th>38885</th>\n",
       "      <td>Intron 1 DNaseHS 2_5704_pos</td>\n",
       "      <td>21:21:+:C&gt;T</td>\n",
       "      <td>0.000000</td>\n",
       "      <td>0.000000</td>\n",
       "      <td>21</td>\n",
       "      <td>16</td>\n",
       "      <td>C&gt;T</td>\n",
       "      <td>AC</td>\n",
       "    </tr>\n",
       "    <tr>\n",
       "      <th>38886</th>\n",
       "      <td>Intron 1 DNaseHS 2_5710_pos</td>\n",
       "      <td>19:19:+:C&gt;T</td>\n",
       "      <td>0.000000</td>\n",
       "      <td>0.000000</td>\n",
       "      <td>19</td>\n",
       "      <td>13</td>\n",
       "      <td>C&gt;T</td>\n",
       "      <td>AC</td>\n",
       "    </tr>\n",
       "    <tr>\n",
       "      <th>38887</th>\n",
       "      <td>Intron 1 DNaseHS 2_5710_pos</td>\n",
       "      <td>20:20:+:C&gt;T</td>\n",
       "      <td>0.000000</td>\n",
       "      <td>0.000000</td>\n",
       "      <td>20</td>\n",
       "      <td>14</td>\n",
       "      <td>C&gt;T</td>\n",
       "      <td>CC</td>\n",
       "    </tr>\n",
       "  </tbody>\n",
       "</table>\n",
       "<p>38888 rows × 8 columns</p>\n",
       "</div>"
      ],
      "text/plain": [
       "                             guide               edit  rep_median  rep_mean  \\\n",
       "0                      10_2511_neg  11224164:24:-:C>T    0.000000  0.000000   \n",
       "1                      10_2511_neg  11224166:22:-:C>T    0.000000  0.000000   \n",
       "2                      10_2511_neg  11224169:19:-:C>T    0.000000  0.000000   \n",
       "3                      10_2511_neg  11224171:17:-:C>T    0.031408  0.038483   \n",
       "4                      10_2511_neg  11224172:16:-:C>T    0.000000  0.000000   \n",
       "...                            ...                ...         ...       ...   \n",
       "38883  Intron 1 DNaseHS 2_5704_neg        10:10:+:C>T    0.000000  0.000000   \n",
       "38884  Intron 1 DNaseHS 2_5704_neg        20:20:+:C>T    0.000000  0.000000   \n",
       "38885  Intron 1 DNaseHS 2_5704_pos        21:21:+:C>T    0.000000  0.000000   \n",
       "38886  Intron 1 DNaseHS 2_5710_pos        19:19:+:C>T    0.000000  0.000000   \n",
       "38887  Intron 1 DNaseHS 2_5710_pos        20:20:+:C>T    0.000000  0.000000   \n",
       "\n",
       "       rel_pos  spacer_pos base_change context  \n",
       "0           24          19         C>T      TC  \n",
       "1           22          17         C>T      TC  \n",
       "2           19          14         C>T      TC  \n",
       "3           17          12         C>T      CC  \n",
       "4           16          11         C>T      CC  \n",
       "...        ...         ...         ...     ...  \n",
       "38883       10           5         C>T      CC  \n",
       "38884       20          15         C>T      TC  \n",
       "38885       21          16         C>T      AC  \n",
       "38886       19          13         C>T      AC  \n",
       "38887       20          14         C>T      CC  \n",
       "\n",
       "[38888 rows x 8 columns]"
      ]
     },
     "execution_count": 11,
     "metadata": {},
     "output_type": "execute_result"
    }
   ],
   "source": [
    "cedit_rates_df_ct"
   ]
  },
  {
   "cell_type": "code",
   "execution_count": 12,
   "metadata": {},
   "outputs": [
    {
     "data": {
      "text/plain": [
       "7294"
      ]
     },
     "execution_count": 12,
     "metadata": {},
     "output_type": "execute_result"
    }
   ],
   "source": [
    "len(cedit_rates_df.guide.unique())"
   ]
  },
  {
   "cell_type": "code",
   "execution_count": 13,
   "metadata": {},
   "outputs": [],
   "source": [
    "plt.style.use('default')"
   ]
  },
  {
   "cell_type": "code",
   "execution_count": 15,
   "metadata": {},
   "outputs": [
    {
     "name": "stderr",
     "output_type": "stream",
     "text": [
      "/data/pinello/PROJECTS/2021_08_ANBE/software/crispr-bean/bean/plotting/editing_patterns.py:334: FutureWarning: The default value of numeric_only in DataFrameGroupBy.mean is deprecated. In a future version, numeric_only will default to False. Either specify numeric_only or select only columns which should be valid for the function.\n",
      "  edit_rates_df.loc[(edit_rates_df.base_change == bdata.target_base_change)]\n"
     ]
    },
    {
     "data": {
      "image/png": "[encoded data removed]",
      "text/plain": [
       "<Figure size 432x288 with 2 Axes>"
      ]
     },
     "metadata": {
      "needs_background": "light"
     },
     "output_type": "display_data"
    }
   ],
   "source": [
    "pos_by_pam = be.pl.editing_patterns.plot_by_pos_pam(cdata_bulk, cedit_rates_df_ct)\n",
    "plt.savefig(\"1b_pos_by_pam_LDLRCDS.pdf\", bbox_inches = 'tight')"
   ]
  },
  {
   "cell_type": "code",
   "execution_count": 16,
   "metadata": {},
   "outputs": [],
   "source": [
    "pos_by_pam.to_csv(\"b_pos_by_pam_spry.csv\")"
   ]
  },
  {
   "cell_type": "markdown",
   "metadata": {},
   "source": [
    "## Context preference logo\n"
   ]
  },
  {
   "cell_type": "code",
   "execution_count": 17,
   "metadata": {},
   "outputs": [],
   "source": [
    "def info_content(v, background = 0.25):\n",
    "    v=v/v.sum()\n",
    "    print(v)\n",
    "    \"\"\"Get information content-normalized v for 1d np.ndarry v\"\"\"\n",
    "    return ((v*np.log2(v/background)).sum())*v"
   ]
  },
  {
   "cell_type": "code",
   "execution_count": 19,
   "metadata": {},
   "outputs": [],
   "source": [
    "cedit_rates_df_ct_window = cedit_rates_df_ct.loc[(cedit_rates_df_ct.spacer_pos >= 3) & (cedit_rates_df_ct.spacer_pos <= 8)].copy()\n",
    "cedit_rates_df_ct_window[\"context\"] = cedit_rates_df_ct_window.apply(\n",
    "    lambda row: cdata_bulk.guides.loc[row.guide, \"Reporter\"][\n",
    "        row.rel_pos - 1 : row.rel_pos + 2\n",
    "    ],\n",
    "    axis=1,\n",
    ")"
   ]
  },
  {
   "cell_type": "code",
   "execution_count": 20,
   "metadata": {},
   "outputs": [],
   "source": [
    "con_mean_er = {}\n",
    "for i in range(3):\n",
    "    cedit_rates_df_ct_window[f\"context_{i}\"] = cedit_rates_df_ct_window.context.map(lambda s: s[i])\n",
    "    con_mean_er[i] = cedit_rates_df_ct_window.groupby(f\"context_{i}\")[\"rep_mean\"].mean()"
   ]
  },
  {
   "cell_type": "code",
   "execution_count": 21,
   "metadata": {},
   "outputs": [
    {
     "data": {
      "text/plain": [
       "{0: context_0\n",
       " A    0.125936\n",
       " C    0.079885\n",
       " G    0.146206\n",
       " T    0.077520\n",
       " Name: rep_mean, dtype: float64,\n",
       " 1: context_1\n",
       " C    0.105442\n",
       " Name: rep_mean, dtype: float64,\n",
       " 2: context_2\n",
       " A    0.108258\n",
       " C    0.104127\n",
       " G    0.105074\n",
       " T    0.104286\n",
       " Name: rep_mean, dtype: float64}"
      ]
     },
     "execution_count": 21,
     "metadata": {},
     "output_type": "execute_result"
    }
   ],
   "source": [
    "con_mean_er"
   ]
  },
  {
   "cell_type": "code",
   "execution_count": 22,
   "metadata": {},
   "outputs": [
    {
     "name": "stdout",
     "output_type": "stream",
     "text": [
      "context_0\n",
      "A    0.293183\n",
      "C    0.185975\n",
      "G    0.340372\n",
      "T    0.180470\n",
      "Name: rep_mean, dtype: float64\n",
      "context_2\n",
      "A    0.256691\n",
      "C    0.246896\n",
      "G    0.249140\n",
      "T    0.247273\n",
      "Name: rep_mean, dtype: float64\n"
     ]
    }
   ],
   "source": [
    "bg = con_mean_er[1][\"C\"]\n",
    "context_0 = info_content(con_mean_er[0], background = 0.25)\n",
    "context_2 = info_content(con_mean_er[2], background = 0.25)"
   ]
  },
  {
   "cell_type": "code",
   "execution_count": 23,
   "metadata": {},
   "outputs": [
    {
     "data": {
      "text/plain": [
       "context_0\n",
       "A    0.016036\n",
       "C    0.010172\n",
       "G    0.018617\n",
       "T    0.009871\n",
       "Name: rep_mean, dtype: float64"
      ]
     },
     "execution_count": 23,
     "metadata": {},
     "output_type": "execute_result"
    }
   ],
   "source": [
    "context_0"
   ]
  },
  {
   "cell_type": "code",
   "execution_count": 24,
   "metadata": {},
   "outputs": [],
   "source": [
    "ic_tbl = pd.concat([con_mean_er[0]/con_mean_er[0].sum(), pd.DataFrame([0,1,0,0], index=[\"A\", \"C\", \"G\", \"T\"]), con_mean_er[2]/con_mean_er[2].sum()], axis=1).T\n",
    "ic_tbl.index = [-1, 0, 1]"
   ]
  },
  {
   "cell_type": "code",
   "execution_count": 25,
   "metadata": {},
   "outputs": [
    {
     "data": {
      "image/png": "[encoded data removed]",
      "text/plain": [
       "<Figure size 216x360 with 1 Axes>"
      ]
     },
     "metadata": {
      "needs_background": "light"
     },
     "output_type": "display_data"
    }
   ],
   "source": [
    "fig, ax = plt.subplots(figsize=(3,5))\n",
    "\n",
    "logomaker.Logo(ic_tbl, ax = ax)\n",
    "ax.set_ylabel(\"Relative frequency\")\n",
    "fig.savefig(\"context_preference_3_8.pdf\")"
   ]
  },
  {
   "cell_type": "code",
   "execution_count": 26,
   "metadata": {},
   "outputs": [],
   "source": [
    "ic_tbl.to_csv(\"a_context_spry.csv\")"
   ]
  }
 ],
 "metadata": {
  "kernelspec": {
   "display_name": "jy_anbe_py38",
   "language": "python",
   "name": "jy_anbe_py38"
  },
  "language_info": {
   "codemirror_mode": {
    "name": "ipython",
    "version": 3
   },
   "file_extension": ".py",
   "mimetype": "text/x-python",
   "name": "python",
   "nbconvert_exporter": "python",
   "pygments_lexer": "ipython3",
   "version": "3.8.12"
  },
  "vscode": {
   "interpreter": {
    "hash": "4c3e1e0b99f5a0cffad18f6b0783b802f97f2dc306eb180584fe828b9d35f6d8"
   }
  }
 },
 "nbformat": 4,
 "nbformat_minor": 4
}
