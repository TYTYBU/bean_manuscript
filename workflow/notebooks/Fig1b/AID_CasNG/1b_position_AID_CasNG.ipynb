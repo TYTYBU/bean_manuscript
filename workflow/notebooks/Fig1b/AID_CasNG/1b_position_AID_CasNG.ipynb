{
 "cells": [
  {
   "cell_type": "code",
   "execution_count": 1,
   "metadata": {
    "scrolled": true
   },
   "outputs": [],
   "source": [
    "from copy import deepcopy\n",
    "\n",
    "import numpy as np\n",
    "import pandas as pd\n",
    "from tqdm.auto import tqdm\n",
    "\n",
    "import matplotlib\n",
    "import matplotlib.pyplot as plt\n",
    "import seaborn as sns\n",
    "import logomaker\n",
    "\n",
    "import bean as be\n",
    "from bean import Edit\n",
    "import bean.plotting.editing_patterns"
   ]
  },
  {
   "cell_type": "code",
   "execution_count": 2,
   "metadata": {},
   "outputs": [],
   "source": [
    "#plt.style.use('jr')\n",
    "plt.rcParams[\"pdf.use14corefonts\"] = True\n",
    "matplotlib.rcParams['pdf.fonttype'] = 42 \n",
    "matplotlib.rcParams[\"axes.unicode_minus\"] = False"
   ]
  },
  {
   "cell_type": "code",
   "execution_count": 3,
   "metadata": {},
   "outputs": [],
   "source": [
    "plt.style.use('default')"
   ]
  },
  {
   "cell_type": "markdown",
   "metadata": {},
   "source": [
    "# Load and prepare ReporterScreen\n"
   ]
  },
  {
   "cell_type": "markdown",
   "metadata": {},
   "source": [
    "## Tiling screen data"
   ]
  },
  {
   "cell_type": "code",
   "execution_count": 4,
   "metadata": {},
   "outputs": [],
   "source": [
    "cdata = be.read_h5ad(f\"../../../results/filtered_annotated/LDLRCDS_CBE_CasNG/bean_count_LDLRCDS_CBE_CasNG_masked.h5ad\")"
   ]
  },
  {
   "cell_type": "code",
   "execution_count": 5,
   "metadata": {},
   "outputs": [
    {
     "data": {
      "text/plain": [
       "7500"
      ]
     },
     "execution_count": 5,
     "metadata": {},
     "output_type": "execute_result"
    }
   ],
   "source": [
    "len(cdata.guides)"
   ]
  },
  {
   "cell_type": "code",
   "execution_count": 6,
   "metadata": {},
   "outputs": [],
   "source": [
    "cdata_bulk = cdata[:,cdata.samples.bin == \"bulk\"]"
   ]
  },
  {
   "cell_type": "code",
   "execution_count": 7,
   "metadata": {},
   "outputs": [
    {
     "data": {
      "text/html": [
       "<div>\n",
       "<style scoped>\n",
       "    .dataframe tbody tr th:only-of-type {\n",
       "        vertical-align: middle;\n",
       "    }\n",
       "\n",
       "    .dataframe tbody tr th {\n",
       "        vertical-align: top;\n",
       "    }\n",
       "\n",
       "    .dataframe thead th {\n",
       "        text-align: right;\n",
       "    }\n",
       "</style>\n",
       "<table border=\"1\" class=\"dataframe\">\n",
       "  <thead>\n",
       "    <tr style=\"text-align: right;\">\n",
       "      <th></th>\n",
       "      <th>rep</th>\n",
       "      <th>bin</th>\n",
       "      <th>gini_X</th>\n",
       "      <th>median_corr_X</th>\n",
       "      <th>median_lfc_corr.top_bot</th>\n",
       "      <th>median_editing_rate</th>\n",
       "      <th>mask</th>\n",
       "    </tr>\n",
       "  </thead>\n",
       "  <tbody>\n",
       "    <tr>\n",
       "      <th>rep1_bulk</th>\n",
       "      <td>rep1</td>\n",
       "      <td>bulk</td>\n",
       "      <td>0.328002</td>\n",
       "      <td>0.573090</td>\n",
       "      <td>0.053247</td>\n",
       "      <td>0.0</td>\n",
       "      <td>1</td>\n",
       "    </tr>\n",
       "    <tr>\n",
       "      <th>rep2_bulk</th>\n",
       "      <td>rep2</td>\n",
       "      <td>bulk</td>\n",
       "      <td>0.334107</td>\n",
       "      <td>0.571592</td>\n",
       "      <td>0.094351</td>\n",
       "      <td>0.0</td>\n",
       "      <td>1</td>\n",
       "    </tr>\n",
       "    <tr>\n",
       "      <th>rep3_bulk</th>\n",
       "      <td>rep3</td>\n",
       "      <td>bulk</td>\n",
       "      <td>0.343590</td>\n",
       "      <td>0.552089</td>\n",
       "      <td>-0.016989</td>\n",
       "      <td>0.0</td>\n",
       "      <td>1</td>\n",
       "    </tr>\n",
       "    <tr>\n",
       "      <th>rep4_bulk</th>\n",
       "      <td>rep4</td>\n",
       "      <td>bulk</td>\n",
       "      <td>0.341136</td>\n",
       "      <td>0.562805</td>\n",
       "      <td>0.117030</td>\n",
       "      <td>0.0</td>\n",
       "      <td>1</td>\n",
       "    </tr>\n",
       "  </tbody>\n",
       "</table>\n",
       "</div>"
      ],
      "text/plain": [
       "            rep   bin    gini_X  median_corr_X  median_lfc_corr.top_bot  \\\n",
       "rep1_bulk  rep1  bulk  0.328002       0.573090                 0.053247   \n",
       "rep2_bulk  rep2  bulk  0.334107       0.571592                 0.094351   \n",
       "rep3_bulk  rep3  bulk  0.343590       0.552089                -0.016989   \n",
       "rep4_bulk  rep4  bulk  0.341136       0.562805                 0.117030   \n",
       "\n",
       "           median_editing_rate  mask  \n",
       "rep1_bulk                  0.0     1  \n",
       "rep2_bulk                  0.0     1  \n",
       "rep3_bulk                  0.0     1  \n",
       "rep4_bulk                  0.0     1  "
      ]
     },
     "execution_count": 7,
     "metadata": {},
     "output_type": "execute_result"
    }
   ],
   "source": [
    "cdata_bulk.samples"
   ]
  },
  {
   "cell_type": "code",
   "execution_count": 8,
   "metadata": {},
   "outputs": [
    {
     "data": {
      "application/vnd.jupyter.widget-view+json": {
       "model_id": "c515e2e8fa07477fb9a0bf1fc6184383",
       "version_major": 2,
       "version_minor": 0
      },
      "text/plain": [
       "Calibrating edits in editable positions...:   0%|          | 0/7299 [00:00<?, ?it/s]"
      ]
     },
     "metadata": {},
     "output_type": "display_data"
    }
   ],
   "source": [
    "cedit_rates_df = bean.plotting.editing_patterns.get_edit_rates(cdata_bulk, adjust_spacer_pos = True)"
   ]
  },
  {
   "cell_type": "code",
   "execution_count": 9,
   "metadata": {},
   "outputs": [
    {
     "data": {
      "text/html": [
       "<div>\n",
       "<style scoped>\n",
       "    .dataframe tbody tr th:only-of-type {\n",
       "        vertical-align: middle;\n",
       "    }\n",
       "\n",
       "    .dataframe tbody tr th {\n",
       "        vertical-align: top;\n",
       "    }\n",
       "\n",
       "    .dataframe thead th {\n",
       "        text-align: right;\n",
       "    }\n",
       "</style>\n",
       "<table border=\"1\" class=\"dataframe\">\n",
       "  <thead>\n",
       "    <tr style=\"text-align: right;\">\n",
       "      <th></th>\n",
       "      <th>guide</th>\n",
       "      <th>edit</th>\n",
       "      <th>rep_median</th>\n",
       "      <th>rep_mean</th>\n",
       "      <th>rel_pos</th>\n",
       "      <th>spacer_pos</th>\n",
       "      <th>base_change</th>\n",
       "      <th>context</th>\n",
       "    </tr>\n",
       "  </thead>\n",
       "  <tbody>\n",
       "    <tr>\n",
       "      <th>0</th>\n",
       "      <td>10_2511_neg</td>\n",
       "      <td>11224163:25:-:A&gt;T</td>\n",
       "      <td>0.0</td>\n",
       "      <td>0.0</td>\n",
       "      <td>25</td>\n",
       "      <td>20</td>\n",
       "      <td>A&gt;T</td>\n",
       "      <td>CA</td>\n",
       "    </tr>\n",
       "    <tr>\n",
       "      <th>1</th>\n",
       "      <td>10_2511_neg</td>\n",
       "      <td>11224170:18:-:T&gt;A</td>\n",
       "      <td>0.0</td>\n",
       "      <td>0.0</td>\n",
       "      <td>18</td>\n",
       "      <td>13</td>\n",
       "      <td>T&gt;A</td>\n",
       "      <td>CT</td>\n",
       "    </tr>\n",
       "    <tr>\n",
       "      <th>2</th>\n",
       "      <td>10_2511_neg</td>\n",
       "      <td>11224170:18:-:T&gt;G</td>\n",
       "      <td>0.0</td>\n",
       "      <td>0.0</td>\n",
       "      <td>18</td>\n",
       "      <td>13</td>\n",
       "      <td>T&gt;G</td>\n",
       "      <td>CT</td>\n",
       "    </tr>\n",
       "    <tr>\n",
       "      <th>3</th>\n",
       "      <td>10_2511_neg</td>\n",
       "      <td>11224171:17:-:C&gt;T</td>\n",
       "      <td>0.0</td>\n",
       "      <td>0.0</td>\n",
       "      <td>17</td>\n",
       "      <td>12</td>\n",
       "      <td>C&gt;T</td>\n",
       "      <td>CC</td>\n",
       "    </tr>\n",
       "    <tr>\n",
       "      <th>4</th>\n",
       "      <td>10_2511_neg</td>\n",
       "      <td>11224173:15:-:C&gt;T</td>\n",
       "      <td>0.0</td>\n",
       "      <td>0.0</td>\n",
       "      <td>15</td>\n",
       "      <td>10</td>\n",
       "      <td>C&gt;T</td>\n",
       "      <td>GC</td>\n",
       "    </tr>\n",
       "    <tr>\n",
       "      <th>...</th>\n",
       "      <td>...</td>\n",
       "      <td>...</td>\n",
       "      <td>...</td>\n",
       "      <td>...</td>\n",
       "      <td>...</td>\n",
       "      <td>...</td>\n",
       "      <td>...</td>\n",
       "      <td>...</td>\n",
       "    </tr>\n",
       "    <tr>\n",
       "      <th>79315</th>\n",
       "      <td>Intron 1 DNaseHS 2_5707_pos</td>\n",
       "      <td>23:23:+:C&gt;T</td>\n",
       "      <td>0.0</td>\n",
       "      <td>0.0</td>\n",
       "      <td>23</td>\n",
       "      <td>18</td>\n",
       "      <td>C&gt;T</td>\n",
       "      <td>CC</td>\n",
       "    </tr>\n",
       "    <tr>\n",
       "      <th>79316</th>\n",
       "      <td>Intron 1 DNaseHS 2_5710_pos</td>\n",
       "      <td>16:16:+:C&gt;T</td>\n",
       "      <td>0.0</td>\n",
       "      <td>0.0</td>\n",
       "      <td>16</td>\n",
       "      <td>10</td>\n",
       "      <td>C&gt;T</td>\n",
       "      <td>CC</td>\n",
       "    </tr>\n",
       "    <tr>\n",
       "      <th>79317</th>\n",
       "      <td>Intron 1 DNaseHS 2_5710_pos</td>\n",
       "      <td>17:17:+:C&gt;T</td>\n",
       "      <td>0.0</td>\n",
       "      <td>0.0</td>\n",
       "      <td>17</td>\n",
       "      <td>11</td>\n",
       "      <td>C&gt;T</td>\n",
       "      <td>CC</td>\n",
       "    </tr>\n",
       "    <tr>\n",
       "      <th>79318</th>\n",
       "      <td>Intron 1 DNaseHS 2_5713_pos</td>\n",
       "      <td>16:16:+:C&gt;T</td>\n",
       "      <td>0.0</td>\n",
       "      <td>0.0</td>\n",
       "      <td>16</td>\n",
       "      <td>11</td>\n",
       "      <td>C&gt;T</td>\n",
       "      <td>AC</td>\n",
       "    </tr>\n",
       "    <tr>\n",
       "      <th>79319</th>\n",
       "      <td>Intron 1 DNaseHS 2_5713_pos</td>\n",
       "      <td>17:17:+:C&gt;T</td>\n",
       "      <td>0.0</td>\n",
       "      <td>0.0</td>\n",
       "      <td>17</td>\n",
       "      <td>12</td>\n",
       "      <td>C&gt;T</td>\n",
       "      <td>CC</td>\n",
       "    </tr>\n",
       "  </tbody>\n",
       "</table>\n",
       "<p>79320 rows × 8 columns</p>\n",
       "</div>"
      ],
      "text/plain": [
       "                             guide               edit  rep_median  rep_mean  \\\n",
       "0                      10_2511_neg  11224163:25:-:A>T         0.0       0.0   \n",
       "1                      10_2511_neg  11224170:18:-:T>A         0.0       0.0   \n",
       "2                      10_2511_neg  11224170:18:-:T>G         0.0       0.0   \n",
       "3                      10_2511_neg  11224171:17:-:C>T         0.0       0.0   \n",
       "4                      10_2511_neg  11224173:15:-:C>T         0.0       0.0   \n",
       "...                            ...                ...         ...       ...   \n",
       "79315  Intron 1 DNaseHS 2_5707_pos        23:23:+:C>T         0.0       0.0   \n",
       "79316  Intron 1 DNaseHS 2_5710_pos        16:16:+:C>T         0.0       0.0   \n",
       "79317  Intron 1 DNaseHS 2_5710_pos        17:17:+:C>T         0.0       0.0   \n",
       "79318  Intron 1 DNaseHS 2_5713_pos        16:16:+:C>T         0.0       0.0   \n",
       "79319  Intron 1 DNaseHS 2_5713_pos        17:17:+:C>T         0.0       0.0   \n",
       "\n",
       "       rel_pos  spacer_pos base_change context  \n",
       "0           25          20         A>T      CA  \n",
       "1           18          13         T>A      CT  \n",
       "2           18          13         T>G      CT  \n",
       "3           17          12         C>T      CC  \n",
       "4           15          10         C>T      GC  \n",
       "...        ...         ...         ...     ...  \n",
       "79315       23          18         C>T      CC  \n",
       "79316       16          10         C>T      CC  \n",
       "79317       17          11         C>T      CC  \n",
       "79318       16          11         C>T      AC  \n",
       "79319       17          12         C>T      CC  \n",
       "\n",
       "[79320 rows x 8 columns]"
      ]
     },
     "execution_count": 9,
     "metadata": {},
     "output_type": "execute_result"
    }
   ],
   "source": [
    "cedit_rates_df"
   ]
  },
  {
   "cell_type": "markdown",
   "metadata": {},
   "source": [
    "## Combination with PAM\n"
   ]
  },
  {
   "cell_type": "code",
   "execution_count": 10,
   "metadata": {},
   "outputs": [],
   "source": [
    "cedit_rates_df_ct = cedit_rates_df.loc[cedit_rates_df.base_change == \"C>T\",:].reset_index(drop=True)"
   ]
  },
  {
   "cell_type": "code",
   "execution_count": 11,
   "metadata": {},
   "outputs": [
    {
     "data": {
      "text/html": [
       "<div>\n",
       "<style scoped>\n",
       "    .dataframe tbody tr th:only-of-type {\n",
       "        vertical-align: middle;\n",
       "    }\n",
       "\n",
       "    .dataframe tbody tr th {\n",
       "        vertical-align: top;\n",
       "    }\n",
       "\n",
       "    .dataframe thead th {\n",
       "        text-align: right;\n",
       "    }\n",
       "</style>\n",
       "<table border=\"1\" class=\"dataframe\">\n",
       "  <thead>\n",
       "    <tr style=\"text-align: right;\">\n",
       "      <th></th>\n",
       "      <th>guide</th>\n",
       "      <th>edit</th>\n",
       "      <th>rep_median</th>\n",
       "      <th>rep_mean</th>\n",
       "      <th>rel_pos</th>\n",
       "      <th>spacer_pos</th>\n",
       "      <th>base_change</th>\n",
       "      <th>context</th>\n",
       "    </tr>\n",
       "  </thead>\n",
       "  <tbody>\n",
       "    <tr>\n",
       "      <th>0</th>\n",
       "      <td>10_2511_neg</td>\n",
       "      <td>11224171:17:-:C&gt;T</td>\n",
       "      <td>0.0</td>\n",
       "      <td>0.0</td>\n",
       "      <td>17</td>\n",
       "      <td>12</td>\n",
       "      <td>C&gt;T</td>\n",
       "      <td>CC</td>\n",
       "    </tr>\n",
       "    <tr>\n",
       "      <th>1</th>\n",
       "      <td>10_2511_neg</td>\n",
       "      <td>11224173:15:-:C&gt;T</td>\n",
       "      <td>0.0</td>\n",
       "      <td>0.0</td>\n",
       "      <td>15</td>\n",
       "      <td>10</td>\n",
       "      <td>C&gt;T</td>\n",
       "      <td>GC</td>\n",
       "    </tr>\n",
       "    <tr>\n",
       "      <th>2</th>\n",
       "      <td>10_2511_neg</td>\n",
       "      <td>11224180:8:-:C&gt;T</td>\n",
       "      <td>0.0</td>\n",
       "      <td>0.0</td>\n",
       "      <td>8</td>\n",
       "      <td>3</td>\n",
       "      <td>C&gt;T</td>\n",
       "      <td>GC</td>\n",
       "    </tr>\n",
       "    <tr>\n",
       "      <th>3</th>\n",
       "      <td>10_2511_neg</td>\n",
       "      <td>11224182:6:-:C&gt;T</td>\n",
       "      <td>0.0</td>\n",
       "      <td>0.0</td>\n",
       "      <td>6</td>\n",
       "      <td>1</td>\n",
       "      <td>C&gt;T</td>\n",
       "      <td>GC</td>\n",
       "    </tr>\n",
       "    <tr>\n",
       "      <th>4</th>\n",
       "      <td>10_2514_neg</td>\n",
       "      <td>11224180:11:-:C&gt;T</td>\n",
       "      <td>0.0</td>\n",
       "      <td>0.0</td>\n",
       "      <td>11</td>\n",
       "      <td>6</td>\n",
       "      <td>C&gt;T</td>\n",
       "      <td>GC</td>\n",
       "    </tr>\n",
       "    <tr>\n",
       "      <th>...</th>\n",
       "      <td>...</td>\n",
       "      <td>...</td>\n",
       "      <td>...</td>\n",
       "      <td>...</td>\n",
       "      <td>...</td>\n",
       "      <td>...</td>\n",
       "      <td>...</td>\n",
       "      <td>...</td>\n",
       "    </tr>\n",
       "    <tr>\n",
       "      <th>40264</th>\n",
       "      <td>Intron 1 DNaseHS 2_5707_pos</td>\n",
       "      <td>23:23:+:C&gt;T</td>\n",
       "      <td>0.0</td>\n",
       "      <td>0.0</td>\n",
       "      <td>23</td>\n",
       "      <td>18</td>\n",
       "      <td>C&gt;T</td>\n",
       "      <td>CC</td>\n",
       "    </tr>\n",
       "    <tr>\n",
       "      <th>40265</th>\n",
       "      <td>Intron 1 DNaseHS 2_5710_pos</td>\n",
       "      <td>16:16:+:C&gt;T</td>\n",
       "      <td>0.0</td>\n",
       "      <td>0.0</td>\n",
       "      <td>16</td>\n",
       "      <td>10</td>\n",
       "      <td>C&gt;T</td>\n",
       "      <td>CC</td>\n",
       "    </tr>\n",
       "    <tr>\n",
       "      <th>40266</th>\n",
       "      <td>Intron 1 DNaseHS 2_5710_pos</td>\n",
       "      <td>17:17:+:C&gt;T</td>\n",
       "      <td>0.0</td>\n",
       "      <td>0.0</td>\n",
       "      <td>17</td>\n",
       "      <td>11</td>\n",
       "      <td>C&gt;T</td>\n",
       "      <td>CC</td>\n",
       "    </tr>\n",
       "    <tr>\n",
       "      <th>40267</th>\n",
       "      <td>Intron 1 DNaseHS 2_5713_pos</td>\n",
       "      <td>16:16:+:C&gt;T</td>\n",
       "      <td>0.0</td>\n",
       "      <td>0.0</td>\n",
       "      <td>16</td>\n",
       "      <td>11</td>\n",
       "      <td>C&gt;T</td>\n",
       "      <td>AC</td>\n",
       "    </tr>\n",
       "    <tr>\n",
       "      <th>40268</th>\n",
       "      <td>Intron 1 DNaseHS 2_5713_pos</td>\n",
       "      <td>17:17:+:C&gt;T</td>\n",
       "      <td>0.0</td>\n",
       "      <td>0.0</td>\n",
       "      <td>17</td>\n",
       "      <td>12</td>\n",
       "      <td>C&gt;T</td>\n",
       "      <td>CC</td>\n",
       "    </tr>\n",
       "  </tbody>\n",
       "</table>\n",
       "<p>40269 rows × 8 columns</p>\n",
       "</div>"
      ],
      "text/plain": [
       "                             guide               edit  rep_median  rep_mean  \\\n",
       "0                      10_2511_neg  11224171:17:-:C>T         0.0       0.0   \n",
       "1                      10_2511_neg  11224173:15:-:C>T         0.0       0.0   \n",
       "2                      10_2511_neg   11224180:8:-:C>T         0.0       0.0   \n",
       "3                      10_2511_neg   11224182:6:-:C>T         0.0       0.0   \n",
       "4                      10_2514_neg  11224180:11:-:C>T         0.0       0.0   \n",
       "...                            ...                ...         ...       ...   \n",
       "40264  Intron 1 DNaseHS 2_5707_pos        23:23:+:C>T         0.0       0.0   \n",
       "40265  Intron 1 DNaseHS 2_5710_pos        16:16:+:C>T         0.0       0.0   \n",
       "40266  Intron 1 DNaseHS 2_5710_pos        17:17:+:C>T         0.0       0.0   \n",
       "40267  Intron 1 DNaseHS 2_5713_pos        16:16:+:C>T         0.0       0.0   \n",
       "40268  Intron 1 DNaseHS 2_5713_pos        17:17:+:C>T         0.0       0.0   \n",
       "\n",
       "       rel_pos  spacer_pos base_change context  \n",
       "0           17          12         C>T      CC  \n",
       "1           15          10         C>T      GC  \n",
       "2            8           3         C>T      GC  \n",
       "3            6           1         C>T      GC  \n",
       "4           11           6         C>T      GC  \n",
       "...        ...         ...         ...     ...  \n",
       "40264       23          18         C>T      CC  \n",
       "40265       16          10         C>T      CC  \n",
       "40266       17          11         C>T      CC  \n",
       "40267       16          11         C>T      AC  \n",
       "40268       17          12         C>T      CC  \n",
       "\n",
       "[40269 rows x 8 columns]"
      ]
     },
     "execution_count": 11,
     "metadata": {},
     "output_type": "execute_result"
    }
   ],
   "source": [
    "cedit_rates_df_ct"
   ]
  },
  {
   "cell_type": "code",
   "execution_count": 12,
   "metadata": {},
   "outputs": [
    {
     "data": {
      "text/plain": [
       "7299"
      ]
     },
     "execution_count": 12,
     "metadata": {},
     "output_type": "execute_result"
    }
   ],
   "source": [
    "len(cedit_rates_df.guide.unique())"
   ]
  },
  {
   "cell_type": "code",
   "execution_count": 13,
   "metadata": {},
   "outputs": [],
   "source": [
    "plt.style.use('default')"
   ]
  },
  {
   "cell_type": "code",
   "execution_count": 14,
   "metadata": {},
   "outputs": [
    {
     "name": "stderr",
     "output_type": "stream",
     "text": [
      "/data/pinello/PROJECTS/2021_08_ANBE/software/crispr-bean/bean/plotting/editing_patterns.py:334: FutureWarning: The default value of numeric_only in DataFrameGroupBy.mean is deprecated. In a future version, numeric_only will default to False. Either specify numeric_only or select only columns which should be valid for the function.\n",
      "  edit_rates_df.loc[(edit_rates_df.base_change == bdata.target_base_change)]\n"
     ]
    },
    {
     "data": {
      "image/png": "[encoded data removed]",
      "text/plain": [
       "<Figure size 432x288 with 2 Axes>"
      ]
     },
     "metadata": {
      "needs_background": "light"
     },
     "output_type": "display_data"
    }
   ],
   "source": [
    "pos_by_pam = be.pl.editing_patterns.plot_by_pos_pam(cdata_bulk, cedit_rates_df_ct)\n",
    "plt.savefig(\"1b_pos_by_pam_LDLRCDS.pdf\", bbox_inches = 'tight')"
   ]
  },
  {
   "cell_type": "code",
   "execution_count": 15,
   "metadata": {},
   "outputs": [],
   "source": [
    "pos_by_pam.to_csv(\"d_pos_by_pam_CasNG.csv\")"
   ]
  },
  {
   "cell_type": "markdown",
   "metadata": {},
   "source": [
    "## Context preference logo\n"
   ]
  },
  {
   "cell_type": "code",
   "execution_count": 16,
   "metadata": {},
   "outputs": [],
   "source": [
    "def info_content(v, background = 0.25):\n",
    "    v=v/v.sum()\n",
    "    print(v)\n",
    "    \"\"\"Get information content-normalized v for 1d np.ndarry v\"\"\"\n",
    "    return ((v*np.log2(v/background)).sum())*v"
   ]
  },
  {
   "cell_type": "code",
   "execution_count": 17,
   "metadata": {},
   "outputs": [],
   "source": [
    "cedit_rates_df_ct_window = cedit_rates_df_ct.loc[(cedit_rates_df_ct.spacer_pos >= 3) & (cedit_rates_df_ct.spacer_pos <= 8)].copy()\n",
    "cedit_rates_df_ct_window[\"context\"] = cedit_rates_df_ct_window.apply(\n",
    "    lambda row: cdata_bulk.guides.loc[row.guide, \"Reporter\"][\n",
    "        row.rel_pos - 1 : row.rel_pos + 2\n",
    "    ],\n",
    "    axis=1,\n",
    ")"
   ]
  },
  {
   "cell_type": "code",
   "execution_count": 18,
   "metadata": {},
   "outputs": [],
   "source": [
    "con_mean_er = {}\n",
    "for i in range(3):\n",
    "    cedit_rates_df_ct_window[f\"context_{i}\"] = cedit_rates_df_ct_window.context.map(lambda s: s[i])\n",
    "    con_mean_er[i] = cedit_rates_df_ct_window.groupby(f\"context_{i}\")[\"rep_mean\"].mean()"
   ]
  },
  {
   "cell_type": "code",
   "execution_count": 19,
   "metadata": {},
   "outputs": [
    {
     "data": {
      "text/plain": [
       "{0: context_0\n",
       " A    0.081038\n",
       " C    0.054649\n",
       " G    0.092795\n",
       " T    0.053692\n",
       " Name: rep_mean, dtype: float64,\n",
       " 1: context_1\n",
       " C    0.069418\n",
       " Name: rep_mean, dtype: float64,\n",
       " 2: context_2\n",
       " A    0.076824\n",
       " C    0.065948\n",
       " G    0.066806\n",
       " T    0.067506\n",
       " Name: rep_mean, dtype: float64}"
      ]
     },
     "execution_count": 19,
     "metadata": {},
     "output_type": "execute_result"
    }
   ],
   "source": [
    "con_mean_er"
   ]
  },
  {
   "cell_type": "code",
   "execution_count": 20,
   "metadata": {},
   "outputs": [
    {
     "name": "stdout",
     "output_type": "stream",
     "text": [
      "context_0\n",
      "A    0.287190\n",
      "C    0.193673\n",
      "G    0.328858\n",
      "T    0.190279\n",
      "Name: rep_mean, dtype: float64\n",
      "context_2\n",
      "A    0.277261\n",
      "C    0.238006\n",
      "G    0.241103\n",
      "T    0.243630\n",
      "Name: rep_mean, dtype: float64\n"
     ]
    }
   ],
   "source": [
    "bg = con_mean_er[1][\"C\"]\n",
    "context_0 = info_content(con_mean_er[0], background = 0.25)\n",
    "context_2 = info_content(con_mean_er[2], background = 0.25)"
   ]
  },
  {
   "cell_type": "code",
   "execution_count": 21,
   "metadata": {},
   "outputs": [
    {
     "data": {
      "text/plain": [
       "context_0\n",
       "A    0.011853\n",
       "C    0.007993\n",
       "G    0.013572\n",
       "T    0.007853\n",
       "Name: rep_mean, dtype: float64"
      ]
     },
     "execution_count": 21,
     "metadata": {},
     "output_type": "execute_result"
    }
   ],
   "source": [
    "context_0"
   ]
  },
  {
   "cell_type": "code",
   "execution_count": 22,
   "metadata": {},
   "outputs": [],
   "source": [
    "ic_tbl = pd.concat([con_mean_er[0]/con_mean_er[0].sum(), pd.DataFrame([0,1,0,0], index=[\"A\", \"C\", \"G\", \"T\"]), con_mean_er[2]/con_mean_er[2].sum()], axis=1).T\n",
    "ic_tbl.index = [-1, 0, 1]"
   ]
  },
  {
   "cell_type": "code",
   "execution_count": 23,
   "metadata": {},
   "outputs": [
    {
     "data": {
      "image/png": "[encoded data removed]",
      "text/plain": [
       "<Figure size 216x360 with 1 Axes>"
      ]
     },
     "metadata": {
      "needs_background": "light"
     },
     "output_type": "display_data"
    }
   ],
   "source": [
    "fig, ax = plt.subplots(figsize=(3,5))\n",
    "\n",
    "logomaker.Logo(ic_tbl, ax = ax)\n",
    "ax.set_ylabel(\"Relative frequency\")\n",
    "fig.savefig(\"context_preference_3_8.pdf\")"
   ]
  },
  {
   "cell_type": "code",
   "execution_count": 24,
   "metadata": {},
   "outputs": [],
   "source": [
    "ic_tbl.to_csv(\"c_context_CasNG.csv\")"
   ]
  }
 ],
 "metadata": {
  "kernelspec": {
   "display_name": "jy_anbe_py38",
   "language": "python",
   "name": "jy_anbe_py38"
  },
  "language_info": {
   "codemirror_mode": {
    "name": "ipython",
    "version": 3
   },
   "file_extension": ".py",
   "mimetype": "text/x-python",
   "name": "python",
   "nbconvert_exporter": "python",
   "pygments_lexer": "ipython3",
   "version": "3.8.12"
  },
  "vscode": {
   "interpreter": {
    "hash": "4c3e1e0b99f5a0cffad18f6b0783b802f97f2dc306eb180584fe828b9d35f6d8"
   }
  }
 },
 "nbformat": 4,
 "nbformat_minor": 4
}
