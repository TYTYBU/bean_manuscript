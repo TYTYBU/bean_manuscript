{
 "cells": [
  {
   "cell_type": "code",
   "execution_count": 1,
   "metadata": {
    "scrolled": true
   },
   "outputs": [],
   "source": [
    "from copy import deepcopy\n",
    "\n",
    "import numpy as np\n",
    "import pandas as pd\n",
    "from tqdm.auto import tqdm\n",
    "\n",
    "import matplotlib\n",
    "import matplotlib.pyplot as plt\n",
    "import seaborn as sns\n",
    "import logomaker\n",
    "\n",
    "import bean as be\n",
    "from bean import Edit\n",
    "import bean.plotting.editing_patterns"
   ]
  },
  {
   "cell_type": "code",
   "execution_count": 2,
   "metadata": {},
   "outputs": [],
   "source": [
    "#plt.style.use('jr')\n",
    "plt.rcParams[\"pdf.use14corefonts\"] = True\n",
    "matplotlib.rcParams['pdf.fonttype'] = 42 \n",
    "matplotlib.rcParams[\"axes.unicode_minus\"] = False"
   ]
  },
  {
   "cell_type": "code",
   "execution_count": 3,
   "metadata": {},
   "outputs": [],
   "source": [
    "plt.style.use('default')"
   ]
  },
  {
   "cell_type": "markdown",
   "metadata": {},
   "source": [
    "# Load and prepare ReporterScreen\n"
   ]
  },
  {
   "cell_type": "markdown",
   "metadata": {},
   "source": [
    "## Tiling screen data"
   ]
  },
  {
   "cell_type": "code",
   "execution_count": 4,
   "metadata": {},
   "outputs": [],
   "source": [
    "cdata = be.read_h5ad(f\"../../results/filtered_annotated/LDLRCDS/bean_count_LDLRCDS_masked.h5ad\")"
   ]
  },
  {
   "cell_type": "code",
   "execution_count": 5,
   "metadata": {},
   "outputs": [],
   "source": [
    "cdata_bulk = cdata[:,cdata.samples.bin == \"bulk\"]"
   ]
  },
  {
   "cell_type": "code",
   "execution_count": 6,
   "metadata": {},
   "outputs": [],
   "source": [
    "cdata_bulk_fs = cdata_bulk[:,~cdata_bulk.samples.rep.isin([f\"rep{n}\" for n in range(1,5)])]"
   ]
  },
  {
   "cell_type": "code",
   "execution_count": 7,
   "metadata": {},
   "outputs": [
    {
     "data": {
      "text/plain": [
       "150"
      ]
     },
     "execution_count": 7,
     "metadata": {},
     "output_type": "execute_result"
    }
   ],
   "source": [
    "sum(cdata_bulk_fs.guides.index.map(lambda x: \"CONTROL\" in x))"
   ]
  },
  {
   "cell_type": "code",
   "execution_count": null,
   "metadata": {},
   "outputs": [
    {
     "data": {
      "application/vnd.jupyter.widget-view+json": {
       "model_id": "259077c3b41f437dbaeee9a9f7d4c78d",
       "version_major": 2,
       "version_minor": 0
      },
      "text/plain": [
       "Calibrating edits in editable positions...:   0%|          | 0/7320 [00:00<?, ?it/s]"
      ]
     },
     "metadata": {},
     "output_type": "display_data"
    }
   ],
   "source": [
    "cedit_rates_df = bean.plotting.editing_patterns.get_edit_rates(cdata_bulk_fs)"
   ]
  },
  {
   "cell_type": "markdown",
   "metadata": {},
   "source": [
    "## Variant targeting screen"
   ]
  },
  {
   "cell_type": "markdown",
   "metadata": {},
   "source": [
    "Guides in this data has designated target position at one of P3-8 with. We will use the target position editing efficiency for PAM preference and not for position-wise editing efficiency analyses."
   ]
  },
  {
   "cell_type": "code",
   "execution_count": null,
   "metadata": {},
   "outputs": [],
   "source": [
    "vdata = be.read_h5ad(f\"../../results/filtered_annotated/LDLvar/bean_count_LDLvar_masked.h5ad\")"
   ]
  },
  {
   "cell_type": "code",
   "execution_count": null,
   "metadata": {},
   "outputs": [],
   "source": [
    "vdata_bulk = vdata[:, vdata.samples.bin == \"bulk\"]"
   ]
  },
  {
   "cell_type": "code",
   "execution_count": null,
   "metadata": {},
   "outputs": [],
   "source": [
    "vdata_bulk_fs = vdata_bulk[:,~vdata_bulk.samples.rep.isin([f\"rep{n}\" for n in range(1,5)])]"
   ]
  },
  {
   "cell_type": "code",
   "execution_count": null,
   "metadata": {},
   "outputs": [],
   "source": [
    "target_pos = vdata_bulk_fs.guides.loc[vdata_bulk_fs.uns['edit_counts'].guide, \"target_pos\"].reset_index(drop=True)"
   ]
  },
  {
   "cell_type": "code",
   "execution_count": null,
   "metadata": {},
   "outputs": [],
   "source": [
    "rel_pos = vdata_bulk_fs.uns['edit_counts'].edit.map(lambda e: e.rel_pos)"
   ]
  },
  {
   "cell_type": "code",
   "execution_count": null,
   "metadata": {},
   "outputs": [],
   "source": [
    "vdata_bulk_fs.uns['target_edit_counts'] = vdata_bulk_fs.uns['edit_counts'].loc[rel_pos == target_pos, :].reset_index(drop=True)"
   ]
  },
  {
   "cell_type": "code",
   "execution_count": null,
   "metadata": {
    "scrolled": true
   },
   "outputs": [],
   "source": [
    "vedit_rates_df = be.pl.editing_patterns.get_edit_rates(vdata_bulk_fs, edit_count_key='target_edit_counts', add_absent=False)"
   ]
  },
  {
   "cell_type": "code",
   "execution_count": null,
   "metadata": {},
   "outputs": [],
   "source": [
    "be.pl.editing_patterns.plot_by_pos_context(cedit_rates_df)"
   ]
  },
  {
   "cell_type": "markdown",
   "metadata": {},
   "source": [
    "### BE-Hive like plotting\n"
   ]
  },
  {
   "cell_type": "code",
   "execution_count": null,
   "metadata": {},
   "outputs": [],
   "source": [
    "cedit_rates_df.spacer_pos = cedit_rates_df.spacer_pos.astype(int)"
   ]
  },
  {
   "cell_type": "code",
   "execution_count": null,
   "metadata": {},
   "outputs": [],
   "source": [
    "be.pl.editing_patterns.plot_by_pos_behive(\n",
    "    cedit_rates_df,\n",
    "    cdata_bulk_fs,\n",
    "    target_basechange=cdata_bulk_fs.uns['target_base_change'], \n",
    "    nonref_base_changes = [\"C>T\", \"C>G\"]\n",
    ")\n",
    "plt.savefig(\"1b_pos_eff_behive_LDLRCDS.pdf\", bbox_inches = 'tight')"
   ]
  },
  {
   "cell_type": "code",
   "execution_count": null,
   "metadata": {},
   "outputs": [],
   "source": [
    "be.pl.editing_patterns.plot_by_pos_behive(\n",
    "    cedit_rates_df,\n",
    "    cdata_bulk_fs,\n",
    "    target_basechange=cdata_bulk_fs.uns['target_base_change'], \n",
    "    nonref_base_changes = [\"C>T\", \"C>G\"],\n",
    "    normalize=True\n",
    ")\n",
    "plt.savefig(\"1b_pos_eff_behive_LDLRCDS_normed.pdf\", bbox_inches = 'tight')"
   ]
  },
  {
   "cell_type": "markdown",
   "metadata": {},
   "source": [
    "## Combination with PAM\n"
   ]
  },
  {
   "cell_type": "code",
   "execution_count": null,
   "metadata": {},
   "outputs": [],
   "source": [
    "cedit_rates_df_ag = cedit_rates_df.loc[cedit_rates_df.base_change == \"A>G\",:].reset_index(drop=True)"
   ]
  },
  {
   "cell_type": "code",
   "execution_count": null,
   "metadata": {},
   "outputs": [],
   "source": [
    "cedit_rates_df"
   ]
  },
  {
   "cell_type": "code",
   "execution_count": null,
   "metadata": {},
   "outputs": [],
   "source": [
    "len(cedit_rates_df.guide.unique())"
   ]
  },
  {
   "cell_type": "code",
   "execution_count": null,
   "metadata": {},
   "outputs": [],
   "source": [
    "plt.style.use('default')"
   ]
  },
  {
   "cell_type": "code",
   "execution_count": null,
   "metadata": {},
   "outputs": [],
   "source": [
    "be.pl.editing_patterns.plot_by_pos_pam(cdata_bulk_fs, cedit_rates_df_ag)\n",
    "plt.savefig(\"1b_pos_by_pam_LDLRCDS.pdf\", bbox_inches = 'tight')"
   ]
  },
  {
   "cell_type": "code",
   "execution_count": null,
   "metadata": {},
   "outputs": [],
   "source": [
    "cedit_rates_df_ag.spacer_pos.min()"
   ]
  },
  {
   "cell_type": "code",
   "execution_count": null,
   "metadata": {},
   "outputs": [],
   "source": [
    "cedit_rates_df_ag_P38=cedit_rates_df_ag.loc[cedit_rates_df_ag.spacer_pos.isin([3,4,5,6,7,8])]"
   ]
  },
  {
   "cell_type": "code",
   "execution_count": null,
   "metadata": {},
   "outputs": [],
   "source": [
    "cedit_rates_df_ag_P38.groupby([\"guide\", \"pam23\"])"
   ]
  },
  {
   "cell_type": "code",
   "execution_count": null,
   "metadata": {},
   "outputs": [],
   "source": [
    "max_P38_by_pam = cedit_rates_df_ag_P38.groupby([\"guide\", \"pam23\"])[\"rep_mean\"].max()\n",
    "edit_P38_by_pam = max_P38_by_pam.groupby(\"pam23\").mean()"
   ]
  },
  {
   "cell_type": "code",
   "execution_count": null,
   "metadata": {},
   "outputs": [],
   "source": [
    "print(edit_P38_by_pam.min())\n",
    "print(edit_P38_by_pam.max())"
   ]
  },
  {
   "cell_type": "code",
   "execution_count": null,
   "metadata": {},
   "outputs": [],
   "source": [
    "edit_P38_by_pam = cedit_rates_df_ag_P38.groupby(\"pam23\")[\"rep_mean\"].mean()\n",
    "print(edit_P38_by_pam.min())\n",
    "print(edit_P38_by_pam.max())"
   ]
  },
  {
   "cell_type": "code",
   "execution_count": null,
   "metadata": {},
   "outputs": [],
   "source": [
    "cedit_rates_df_ag_P56=cedit_rates_df_ag.loc[cedit_rates_df_ag.spacer_pos.isin([5,6])]\n",
    "edit_P56_by_pam = cedit_rates_df_ag_P56.groupby(\"pam23\")[\"rep_mean\"].mean()\n",
    "print(edit_P56_by_pam.min())\n",
    "print(edit_P56_by_pam.max())"
   ]
  },
  {
   "cell_type": "code",
   "execution_count": null,
   "metadata": {},
   "outputs": [],
   "source": [
    "vedit_rates_df_ag = vedit_rates_df.loc[vedit_rates_df.base_change == \"A>G\",:].reset_index(drop=True)\n",
    "cedit_rates_df_ag_window = cedit_rates_df_ag.loc[(cedit_rates_df_ag.spacer_pos >= 3) & (cedit_rates_df_ag.spacer_pos <= 8)].copy()\n",
    "all_rates = deepcopy(pd.concat([cedit_rates_df_ag_window, vedit_rates_df_ag]))"
   ]
  },
  {
   "cell_type": "code",
   "execution_count": null,
   "metadata": {
    "scrolled": true
   },
   "outputs": [],
   "source": [
    "be.pl.editing_patterns.plot_pam_preference(all_rates)\n",
    "#plt.savefig(\"1b_pam_varcds_combined.pdf\", bbox_inches='tight')"
   ]
  },
  {
   "cell_type": "markdown",
   "metadata": {},
   "source": [
    "## Context preference logo\n"
   ]
  },
  {
   "cell_type": "code",
   "execution_count": null,
   "metadata": {},
   "outputs": [],
   "source": [
    "def info_content(v, background = 0.25):\n",
    "    v=v/v.sum()\n",
    "    print(v)\n",
    "    \"\"\"Get information content-normalized v for 1d np.ndarry v\"\"\"\n",
    "    return ((v*np.log2(v/background)).sum())*v"
   ]
  },
  {
   "cell_type": "code",
   "execution_count": null,
   "metadata": {},
   "outputs": [],
   "source": [
    "cedit_rates_df_ag_window[\"context\"] = cedit_rates_df_ag_window.apply(\n",
    "    lambda row: cdata_bulk_fs.guides.loc[row.guide, \"Reporter\"][\n",
    "        row.rel_pos - 1 : row.rel_pos + 2\n",
    "    ],\n",
    "    axis=1,\n",
    ")"
   ]
  },
  {
   "cell_type": "code",
   "execution_count": null,
   "metadata": {},
   "outputs": [],
   "source": [
    "con_mean_er = {}\n",
    "for i in range(3):\n",
    "    cedit_rates_df_ag_window[f\"context_{i}\"] = cedit_rates_df_ag_window.context.map(lambda s: s[i])\n",
    "    con_mean_er[i] = cedit_rates_df_ag_window.groupby(f\"context_{i}\")[\"rep_mean\"].mean()"
   ]
  },
  {
   "cell_type": "code",
   "execution_count": null,
   "metadata": {},
   "outputs": [],
   "source": [
    "con_mean_er"
   ]
  },
  {
   "cell_type": "code",
   "execution_count": null,
   "metadata": {},
   "outputs": [],
   "source": [
    "bg = con_mean_er[1][\"A\"]\n",
    "context_0 = info_content(con_mean_er[0], background = 0.25)\n",
    "context_2 = info_content(con_mean_er[2], background = 0.25)"
   ]
  },
  {
   "cell_type": "code",
   "execution_count": null,
   "metadata": {},
   "outputs": [],
   "source": [
    "context_0"
   ]
  },
  {
   "cell_type": "code",
   "execution_count": null,
   "metadata": {},
   "outputs": [],
   "source": [
    "ic_tbl = pd.concat([con_mean_er[0]/con_mean_er[0].sum(), pd.DataFrame([1,0,0,0], index=[\"A\", \"C\", \"G\", \"T\"]), con_mean_er[2]/con_mean_er[2].sum()], axis=1).T\n",
    "ic_tbl.index = [-1, 0, 1]"
   ]
  },
  {
   "cell_type": "code",
   "execution_count": null,
   "metadata": {},
   "outputs": [],
   "source": [
    "fig, ax = plt.subplots(figsize=(3,5))\n",
    "\n",
    "logomaker.Logo(ic_tbl, ax = ax)\n",
    "ax.set_ylabel(\"Relative frequency\")\n",
    "fig.savefig(\"context_preference_3_8.pdf\")"
   ]
  },
  {
   "cell_type": "code",
   "execution_count": null,
   "metadata": {},
   "outputs": [],
   "source": []
  }
 ],
 "metadata": {
  "kernelspec": {
   "display_name": "jy_anbe_py38",
   "language": "python",
   "name": "jy_anbe_py38"
  },
  "language_info": {
   "codemirror_mode": {
    "name": "ipython",
    "version": 3
   },
   "file_extension": ".py",
   "mimetype": "text/x-python",
   "name": "python",
   "nbconvert_exporter": "python",
   "pygments_lexer": "ipython3",
   "version": "3.8.12"
  },
  "vscode": {
   "interpreter": {
    "hash": "4c3e1e0b99f5a0cffad18f6b0783b802f97f2dc306eb180584fe828b9d35f6d8"
   }
  }
 },
 "nbformat": 4,
 "nbformat_minor": 4
}
